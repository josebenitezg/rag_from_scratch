{
 "cells": [
  {
   "cell_type": "code",
   "execution_count": 1,
   "metadata": {},
   "outputs": [],
   "source": [
    "!pip install -q sentence-transformers\n",
    "!pip install -q wikipedia-api\n",
    "!pip install -q numpy\n",
    "!pip install -q scipy"
   ]
  },
  {
   "cell_type": "code",
   "execution_count": null,
   "metadata": {},
   "outputs": [],
   "source": [
    "# Modelo de embedding\n",
    "from sentence_transformers import SentenceTransformer\n",
    "embedding_model = SentenceTransformer('all-mpnet-base-v2')"
   ]
  },
  {
   "cell_type": "code",
   "execution_count": 3,
   "metadata": {},
   "outputs": [],
   "source": [
    "# Extraer texto de wikipedia sobre Hayao Miyazaki\n",
    "from wikipediaapi import Wikipedia\n",
    "wiki = Wikipedia('RAGBot/0.0', 'en')\n",
    "doc = wiki.page('Hayao_Miyazaki').text"
   ]
  },
  {
   "cell_type": "code",
   "execution_count": 4,
   "metadata": {},
   "outputs": [],
   "source": [
    "# Chucking in paragraphs\n",
    "paragraphs = doc.split('\\n') "
   ]
  },
  {
   "cell_type": "code",
   "execution_count": 5,
   "metadata": {},
   "outputs": [],
   "source": [
    "docs_embedded = embedding_model.encode(paragraphs, normalize_embeddings=True)"
   ]
  },
  {
   "cell_type": "code",
   "execution_count": 6,
   "metadata": {},
   "outputs": [
    {
     "data": {
      "text/plain": [
       "(78, 768)"
      ]
     },
     "execution_count": 6,
     "metadata": {},
     "output_type": "execute_result"
    }
   ],
   "source": [
    "docs_embedded.shape"
   ]
  },
  {
   "cell_type": "markdown",
   "metadata": {},
   "source": [
    "# Let's reduce dimensionality and visualize the data using T-SNE"
   ]
  },
  {
   "cell_type": "code",
   "execution_count": null,
   "metadata": {},
   "outputs": [],
   "source": [
    "import numpy as np\n",
    "from sklearn.manifold import TSNE\n",
    "\n",
    "docs_embedded_reduced = TSNE(n_components=2).fit_transform(docs_embedded)"
   ]
  },
  {
   "cell_type": "code",
   "execution_count": 8,
   "metadata": {},
   "outputs": [],
   "source": [
    "def dividir_texto(texto, longitud_maxima=50):\n",
    "\n",
    "    palabras = texto.split()\n",
    "    lineas = []\n",
    "    linea_actual = []\n",
    "    longitud_actual = 0\n",
    "    \n",
    "    for palabra in palabras:\n",
    "        if longitud_actual + len(palabra) <= longitud_maxima:\n",
    "            linea_actual.append(palabra)\n",
    "            longitud_actual += len(palabra) + 1  # +1 por el espacio\n",
    "        else:\n",
    "            lineas.append(' '.join(linea_actual))\n",
    "            linea_actual = [palabra]\n",
    "            longitud_actual = len(palabra) + 1\n",
    "    \n",
    "    lineas.append(' '.join(linea_actual))\n",
    "    \n",
    "    return '<br>'.join(lineas) "
   ]
  },
  {
   "cell_type": "code",
   "execution_count": 9,
   "metadata": {},
   "outputs": [
    {
     "data": {
      "text/html": [
       "<div>\n",
       "<style scoped>\n",
       "    .dataframe tbody tr th:only-of-type {\n",
       "        vertical-align: middle;\n",
       "    }\n",
       "\n",
       "    .dataframe tbody tr th {\n",
       "        vertical-align: top;\n",
       "    }\n",
       "\n",
       "    .dataframe thead th {\n",
       "        text-align: right;\n",
       "    }\n",
       "</style>\n",
       "<table border=\"1\" class=\"dataframe\">\n",
       "  <thead>\n",
       "    <tr style=\"text-align: right;\">\n",
       "      <th></th>\n",
       "      <th>x</th>\n",
       "      <th>y</th>\n",
       "      <th>text</th>\n",
       "    </tr>\n",
       "  </thead>\n",
       "  <tbody>\n",
       "    <tr>\n",
       "      <th>0</th>\n",
       "      <td>-153.707306</td>\n",
       "      <td>39.250156</td>\n",
       "      <td>Hayao Miyazaki (宮崎 駿 or 宮﨑 駿, Miyazaki Hayao,&lt;...</td>\n",
       "    </tr>\n",
       "    <tr>\n",
       "      <th>1</th>\n",
       "      <td>-26.375402</td>\n",
       "      <td>16.409048</td>\n",
       "      <td>Born in Tokyo City in the Empire of Japan,&lt;br&gt;...</td>\n",
       "    </tr>\n",
       "    <tr>\n",
       "      <th>2</th>\n",
       "      <td>-57.974106</td>\n",
       "      <td>53.492111</td>\n",
       "      <td>Miyazaki co-founded Studio Ghibli in 1985. He&lt;...</td>\n",
       "    </tr>\n",
       "    <tr>\n",
       "      <th>3</th>\n",
       "      <td>-252.153168</td>\n",
       "      <td>77.099991</td>\n",
       "      <td>Miyazaki's works are characterized by the&lt;br&gt;r...</td>\n",
       "    </tr>\n",
       "    <tr>\n",
       "      <th>4</th>\n",
       "      <td>332.344788</td>\n",
       "      <td>-135.351471</td>\n",
       "      <td></td>\n",
       "    </tr>\n",
       "    <tr>\n",
       "      <th>...</th>\n",
       "      <td>...</td>\n",
       "      <td>...</td>\n",
       "      <td>...</td>\n",
       "    </tr>\n",
       "    <tr>\n",
       "      <th>73</th>\n",
       "      <td>332.344788</td>\n",
       "      <td>-135.351471</td>\n",
       "      <td></td>\n",
       "    </tr>\n",
       "    <tr>\n",
       "      <th>74</th>\n",
       "      <td>196.543594</td>\n",
       "      <td>83.081299</td>\n",
       "      <td>Studio Ghibli (in Japanese)</td>\n",
       "    </tr>\n",
       "    <tr>\n",
       "      <th>75</th>\n",
       "      <td>-192.424469</td>\n",
       "      <td>128.799179</td>\n",
       "      <td>Hayao Miyazaki at Anime News Network's&lt;br&gt;ency...</td>\n",
       "    </tr>\n",
       "    <tr>\n",
       "      <th>76</th>\n",
       "      <td>-163.476135</td>\n",
       "      <td>93.956017</td>\n",
       "      <td>Hayao Miyazaki at IMDb</td>\n",
       "    </tr>\n",
       "    <tr>\n",
       "      <th>77</th>\n",
       "      <td>-143.372620</td>\n",
       "      <td>142.121902</td>\n",
       "      <td>Hayao Miyazaki at Library of Congress, with 14...</td>\n",
       "    </tr>\n",
       "  </tbody>\n",
       "</table>\n",
       "<p>78 rows × 3 columns</p>\n",
       "</div>"
      ],
      "text/plain": [
       "             x           y                                               text\n",
       "0  -153.707306   39.250156  Hayao Miyazaki (宮崎 駿 or 宮﨑 駿, Miyazaki Hayao,<...\n",
       "1   -26.375402   16.409048  Born in Tokyo City in the Empire of Japan,<br>...\n",
       "2   -57.974106   53.492111  Miyazaki co-founded Studio Ghibli in 1985. He<...\n",
       "3  -252.153168   77.099991  Miyazaki's works are characterized by the<br>r...\n",
       "4   332.344788 -135.351471                                                   \n",
       "..         ...         ...                                                ...\n",
       "73  332.344788 -135.351471                                                   \n",
       "74  196.543594   83.081299                        Studio Ghibli (in Japanese)\n",
       "75 -192.424469  128.799179  Hayao Miyazaki at Anime News Network's<br>ency...\n",
       "76 -163.476135   93.956017                             Hayao Miyazaki at IMDb\n",
       "77 -143.372620  142.121902  Hayao Miyazaki at Library of Congress, with 14...\n",
       "\n",
       "[78 rows x 3 columns]"
      ]
     },
     "execution_count": 9,
     "metadata": {},
     "output_type": "execute_result"
    }
   ],
   "source": [
    "import pandas as pd\n",
    "\n",
    "df_embeddings = pd.DataFrame(docs_embedded_reduced)\n",
    "df_embeddings = df_embeddings.rename(columns={0:'x',1:'y'})\n",
    "df_embeddings['text'] = paragraphs\n",
    "df_embeddings['text'] = df_embeddings['text'].apply(dividir_texto)\n",
    "df_embeddings"
   ]
  },
  {
   "cell_type": "code",
   "execution_count": 10,
   "metadata": {},
   "outputs": [
    {
     "data": {
      "application/vnd.plotly.v1+json": {
       "config": {
        "plotlyServerURL": "https://plot.ly"
       },
       "data": [
        {
         "customdata": [
          [
           "Hayao Miyazaki (宮崎 駿 or 宮﨑 駿, Miyazaki Hayao,<br>Japanese: [mijaꜜzaki hajao]; born January 5, 1941)<br>is a Japanese animator, filmmaker, and manga<br>artist. A founder of Studio Ghibli, he has<br>attained international acclaim as a masterful<br>storyteller and creator of Japanese animated<br>feature films, and is widely regarded as one of<br>the most accomplished filmmakers in the history of<br>animation."
          ],
          [
           "Born in Tokyo City in the Empire of Japan,<br>Miyazaki expressed interest in manga and animation<br>from an early age, and he joined Toei Animation in<br>1963. During his early years at Toei Animation he<br>worked as an in-between artist and later<br>collaborated with director Isao Takahata. Notable<br>films to which Miyazaki contributed at Toei<br>include Doggie March and Gulliver's Travels Beyond<br>the Moon. He provided key animation to other films<br>at Toei, such as Puss in Boots and Animal Treasure<br>Island, before moving to A-Pro in 1971, where he<br>co-directed Lupin the Third Part I alongside<br>Takahata. After moving to Zuiyō Eizō (later known<br>as Nippon Animation) in 1973, Miyazaki worked as<br>an animator on World Masterpiece Theater, and<br>directed the television series Future Boy Conan<br>(1978). He joined Tokyo Movie Shinsha in 1979 to<br>direct his first feature film The Castle of<br>Cagliostro as well as the television series<br>Sherlock Hound. In the same period, he began<br>writing and illustrating the manga Nausicaä of the<br>Valley of the Wind (1982–1994) and directed the<br>1984 film adaptation produced by Topcraft."
          ],
          [
           "Miyazaki co-founded Studio Ghibli in 1985. He<br>directed numerous films with Ghibli, including<br>Laputa: Castle in the Sky (1986), My Neighbor<br>Totoro (1988), Kiki's Delivery Service (1989), and<br>Porco Rosso (1992). The films were met with<br>critical and commercial success in Japan.<br>Miyazaki's film Princess Mononoke was the first<br>animated film ever to win the Japan Academy Film<br>Prize for Picture of the Year, and briefly became<br>the highest-grossing film in Japan following its<br>release in 1997; its distribution to the Western<br>world greatly increased Ghibli's popularity and<br>influence outside Japan. His 2001 film Spirited<br>Away became the highest-grossing film in Japanese<br>history, winning the Academy Award for Best<br>Animated Feature, and is frequently ranked among<br>the greatest films of the 21st century. Miyazaki's<br>later films—Howl's Moving Castle (2004), Ponyo<br>(2008), and The Wind Rises (2013)—also enjoyed<br>critical and commercial success. Following the<br>release of The Wind Rises, Miyazaki announced his<br>retirement from feature films, though he later<br>returned to write and direct his twelfth feature<br>film The Boy and the Heron (2023), for which he<br>won his second Academy Award for Best Animated<br>Feature."
          ],
          [
           "Miyazaki's works are characterized by the<br>recurrence of themes such as humanity's<br>relationship with nature and technology, the<br>wholesomeness of natural and traditional patterns<br>of living, the importance of art and<br>craftsmanship, and the difficulty of maintaining a<br>pacifist ethic in a violent world. The<br>protagonists of his films are often strong girls<br>or young women, and several of his films present<br>morally ambiguous antagonists with redeeming<br>qualities. Miyazaki's works have been highly<br>praised and awarded; he was named a Person of<br>Cultural Merit for outstanding cultural<br>contributions in November 2012, and received the<br>Academy Honorary Award for his impact on animation<br>and cinema in November 2014. Miyazaki has<br>frequently been cited as an inspiration for<br>numerous animators, directors, and writers."
          ],
          [
           ""
          ],
          [
           "Hayao Miyazaki was born on January 5, 1941, in<br>Tokyo City, Empire of Japan, the second of four<br>sons. His father, Katsuji Miyazaki (born 1915),<br>was the director of Miyazaki Airplane, his<br>brother's company, which manufactured rudders for<br>fighter planes during World War II. The business<br>allowed his family to remain affluent during<br>Miyazaki's early life. Miyazaki's father enjoyed<br>purchasing paintings and demonstrating them to<br>guests, but otherwise had little known artistic<br>understanding. He said that he was in the Imperial<br>Japanese Army around 1940; after declaring to his<br>commanding officer that he wished not to fight<br>because of his wife and young child, he was<br>discharged after a lecture about disloyalty.<br>According to Miyazaki, his father often told him<br>about his exploits, claiming that he continued to<br>attend nightclubs after turning 70. Katsuji<br>Miyazaki died on March 18, 1993. After his death,<br>Miyazaki felt that he had often looked at his<br>father negatively and that he had never said<br>anything \"lofty or inspiring\". He regretted not<br>having a serious discussion with his father, and<br>felt that he had inherited his \"anarchistic<br>feelings and his lack of concern about embracing<br>contradictions\"."
          ],
          [
           ""
          ],
          [
           "Miyazaki has noted that some of his earliest<br>memories are of \"bombed-out cities\". In 1944, when<br>he was three years old, Miyazaki's family<br>evacuated to Utsunomiya. After the bombing of<br>Utsunomiya in July 1945, he and his family<br>evacuated to Kanuma. The bombing left a lasting<br>impression on Miyazaki, then aged four. As a<br>child, Miyazaki suffered from digestive problems,<br>and was told that he would not live beyond 20,<br>making him feel like an outcast. From 1947 to<br>1955, Miyazaki's mother Yoshiko suffered from<br>spinal tuberculosis; she spent the first few years<br>in hospital before being nursed from home. Yoshiko<br>was frugal, and described as a strict,<br>intellectual woman who regularly questioned<br>\"socially accepted norms\". She was closest with<br>Miyazaki, and had a strong influence on him and<br>his later work. Yoshiko Miyazaki died in July 1983<br>at the age of 72."
          ],
          [
           "Miyazaki began school in 1947, at an elementary<br>school in Utsunomiya, completing the first through<br>third grades. After his family moved back to<br>Suginami-ku, Miyazaki completed the fourth grade<br>at Ōmiya Elementary School, and fifth grade at<br>Eifuku Elementary School, which was newly<br>established after splitting off from Ōmiya<br>Elementary. After graduating from Eifuku as part<br>of the first graduating class, he attended Ōmiya<br>Junior High School. He aspired to become a manga<br>artist, but discovered he could not draw people;<br>instead, he only drew planes, tanks, and<br>battleships for several years. Miyazaki was<br>influenced by several manga artists, such as<br>Tetsuji Fukushima, Soji Yamakawa and Osamu Tezuka.<br>Miyazaki destroyed much of his early work,<br>believing it was \"bad form\" to copy Tezuka's style<br>as it was hindering his own development as an<br>artist. Around this time, Miyazaki would often see<br>movies with his father, who was an avid moviegoer;<br>memorable films for Miyazaki include Meshi (1951)<br>and Tasogare Sakaba (1955)."
          ],
          [
           "After graduating from Ōmiya Junior High, Miyazaki<br>attended Toyotama High School. During his third<br>and final year, Miyazaki's interest in animation<br>was sparked by Panda and the Magic Serpent (1958),<br>Japan's first feature-length animated film in<br>color; he had sneaked out to watch the film<br>instead of studying for his entrance exams.<br>Miyazaki later recounted that he fell in love with<br>the film's heroine, Bai-Niang, and that the film<br>moved him to tears and left a profound impression;<br>he wrote that he was \"moved to the depths of [his]<br>soul\" and that the \"pure, earnest world of the<br>film\" affirmed a side of him that \"yearned<br>desperately to affirm the world rather than negate<br>it\". After graduating from Toyotama, Miyazaki<br>attended Gakushuin University in the department of<br>political economy, majoring in Japanese Industrial<br>Theory. He joined the \"Children's Literature<br>Research Club\", the \"closest thing back then to a<br>comics club\"; he was sometimes the sole member of<br>the club. In his free time, Miyazaki would visit<br>his art teacher from middle school and sketch in<br>his studio, where the two would drink and \"talk<br>about politics, life, all sorts of things\". Around<br>this time, he also drew manga; he never completed<br>any stories, but accumulated thousands of pages of<br>the beginnings of stories. He also frequently<br>approached manga publishers to rent their stories.<br>In 1960, Miyazaki was a bystander during the Anpo<br>protests, having developed an interest after<br>seeing photographs in Asahi Graph; by that point,<br>he was too late to participate in the<br>demonstrations. Miyazaki graduated from Gakushuin<br>in 1963 with degrees in political science and<br>economics."
          ],
          [
           ""
          ],
          [
           "In 1963, Miyazaki was employed at Toei Animation;<br>this was the last year the company hired<br>regularly. After gaining employment, he began<br>renting a four-and-a-half tatami (7.4 m2; 80 sq<br>ft) apartment in Nerima, Tokyo; the rent was<br>¥6,000. His salary at Toei was ¥19,500. Miyazaki<br>worked as an in-between artist on the theatrical<br>feature anime Doggie March and the television<br>anime Wolf Boy Ken (both 1963). He also worked on<br>Gulliver's Travels Beyond the Moon (1965). He was<br>a leader in a labor dispute soon after his<br>arrival, and became chief secretary of Toei's<br>labor union in 1964. Miyazaki later worked as<br>chief animator, concept artist, and scene designer<br>on The Great Adventure of Horus, Prince of the Sun<br>(1968). Throughout the film's production, Miyazaki<br>worked closely with his mentor, Yasuo Ōtsuka,<br>whose approach to animation profoundly influenced<br>Miyazaki's work. Directed by Isao Takahata, with<br>whom Miyazaki would continue to collaborate for<br>the remainder of his career, the film was highly<br>praised, and deemed a pivotal work in the<br>evolution of animation. Miyazaki moved to a<br>residence in Ōizumigakuenchō in April 1969, after<br>the birth of his second son."
          ],
          [
           "Miyazaki provided key animation for The Wonderful<br>World of Puss 'n Boots (1969), directed by Kimio<br>Yabuki. He created a 12-chapter manga series as a<br>promotional tie-in for the film; the series ran in<br>the Sunday edition of Tokyo Shimbun from January<br>to March 1969. Miyazaki later proposed scenes in<br>the screenplay for Flying Phantom Ship (1969), in<br>which military tanks would cause mass hysteria in<br>downtown Tokyo, and was hired to storyboard and<br>animate the scenes. Under the pseudonym Akitsu<br>Saburō (秋津 三朗), Miyazaki wrote and illustrated the<br>manga People of the Desert, published in 26<br>installments between September 1969 and March 1970<br>in Boys and Girls Newspaper (少年少女新聞, Shōnen shōjo<br>shinbun). He was influenced by illustrated stories<br>such as Fukushima's Evil Lord of the Desert<br>(沙漠の魔王, Sabaku no maō). In 1970, Miyazaki moved<br>residence to Tokorozawa. In 1971, he developed<br>structure, characters and designs for Hiroshi<br>Ikeda's adaptation of Animal Treasure Island; he<br>created the 13-part manga adaptation, printed in<br>Tokyo Shimbun from January to March 1971. Miyazaki<br>also provided key animation for Ali Baba and the<br>Forty Thieves."
          ],
          [
           "Miyazaki left Toei Animation in August 1971, and<br>was hired at A-Pro, where he directed, or<br>co-directed with Takahata, 23 episodes of Lupin<br>the Third Part I, often using the pseudonym Teruki<br>Tsutomu (照樹 務). The two also began pre-production<br>on a series based on Astrid Lindgren's Pippi<br>Longstocking books, designing extensive<br>storyboards; the series was canceled after<br>Miyazaki and Takahata were unable to meet with<br>Lindgren, and permission was refused to complete<br>the project. In 1972 and 1973, Miyazaki wrote,<br>designed and animated two Panda! Go, Panda!<br>shorts, directed by Takahata. After moving from<br>A-Pro to Zuiyō Eizō in June 1973, Miyazaki and<br>Takahata worked on World Masterpiece Theater,<br>which featured their animation series Heidi, Girl<br>of the Alps, an adaptation of Johanna Spyri's<br>Heidi. Zuiyō Eizō continued as Nippon Animation in<br>July 1975. Miyazaki also directed the television<br>series Future Boy Conan (1978), an adaptation of<br>Alexander Key's The Incredible Tide."
          ],
          [
           ""
          ],
          [
           "Miyazaki left Nippon Animation in 1979, during the<br>production of Anne of Green Gables; he provided<br>scene design and organization on the first fifteen<br>episodes. He moved to Telecom Animation Film, a<br>subsidiary of TMS Entertainment, to direct his<br>first feature anime film, The Castle of Cagliostro<br>(1979), a Lupin III film. In his role at Telecom,<br>Miyazaki helped train the second wave of<br>employees. Miyazaki directed six episodes of<br>Sherlock Hound in 1981, until issues with Sir<br>Arthur Conan Doyle's estate led to a suspension in<br>production; Miyazaki was busy with other projects<br>by the time the issues were resolved, and the<br>remaining episodes were directed by Kyosuke<br>Mikuriya. They were broadcast from November 1984<br>to May 1985. Miyazaki also wrote the graphic novel<br>The Journey of Shuna, inspired by the Tibetan folk<br>tale \"Prince who became a dog\". The novel was<br>published by Tokuma Shoten in June 1983,<br>dramatized for radio broadcast in 1987, and<br>published in English as Shuna's Journey in 2022.<br>Hayao Miyazaki's Daydream Data Notes was also<br>irregularly published from November 1984 to<br>October 1994 in Model Graphix; selections of the<br>stories received radio broadcast in 1995."
          ],
          [
           "After the release of The Castle of Cagliostro,<br>Miyazaki began working on his ideas for an<br>animated film adaptation of Richard Corben's comic<br>book Rowlf and pitched the idea to Yutaka Fujioka<br>at TMS. In November 1980, a proposal was drawn up<br>to acquire the film rights. Around that time,<br>Miyazaki was also approached for a series of<br>magazine articles by the editorial staff of<br>Animage. During subsequent conversations, he<br>showed his sketchbooks and discussed basic<br>outlines for envisioned animation projects with<br>editors Toshio Suzuki and Osamu Kameyama, who saw<br>the potential for collaboration on their<br>development into animation. Two projects were<br>proposed: Warring States Demon Castle (戦国魔城,<br>Sengoku ma-jō), to be set in the Sengoku period;<br>and the adaptation of Corben's Rowlf. Both were<br>rejected, as the company was unwilling to fund<br>anime projects not based on existing manga, and<br>the rights for the adaptation of Rowlf could not<br>be secured. An agreement was reached that Miyazaki<br>could start developing his sketches and ideas into<br>a manga for the magazine with the proviso that it<br>would never be made into a film. The manga—titled<br>Nausicaä of the Valley of the Wind—ran from<br>February 1982 to March 1994. The story, as<br>re-printed in the tankōbon volumes, spans seven<br>volumes for a combined total of 1060 pages.<br>Miyazaki drew the episodes primarily in pencil,<br>and it was printed monochrome in sepia-toned ink.<br>Miyazaki resigned from Telecom Animation Film in<br>November 1982."
          ],
          [
           ""
          ],
          [
           "Following the completion of Nausicaä of the Valley<br>of the Wind's first two volumes, Suzuki and the<br>other editors of Animage encouraged Miyazaki to<br>work on a film adaptation; some documentaries<br>claim he began writing the manga after his film<br>pitch was rejected, but Miyazaki said the manga<br>came first. Miyazaki's imagination was sparked by<br>the mercury poisoning of Minamata Bay and how<br>nature responded and thrived in a poisoned<br>environment, using it to create the film's<br>polluted world. By this time, Miyazaki had moved<br>to the animation studio Topcraft and was finding<br>some of the staff to be unreliable. He eventually<br>decided to bring on several of his previous<br>collaborators for the film's production, including<br>Takahata who would serve as producer.<br>Pre-production began on May 31, 1983; Miyazaki<br>encountered difficulties in creating the<br>screenplay, with only sixteen chapters of the<br>manga to work with. Takahata enlisted experimental<br>and minimalist musician Joe Hisaishi to compose<br>the film's score. Nausicaä of the Valley of the<br>Wind was released on March 11, 1984. It grossed<br>¥1.48 billion at the box office, and made an<br>additional ¥742 million in distribution income. It<br>is often seen as Miyazaki's pivotal work,<br>cementing his reputation as an animator. It was<br>lauded for its positive portrayal of women,<br>particularly that of main character Nausicaä.<br>Several critics have labeled Nausicaä of the<br>Valley of the Wind as possessing anti-war and<br>feminist themes; Miyazaki argues otherwise,<br>stating that he only wishes to entertain. The<br>successful cooperation on the creation of the<br>manga and the film laid the foundation for other<br>collaborative projects. In April 1984, Miyazaki<br>opened his own office in Suginami Ward, naming it<br>Nibariki."
          ],
          [
           ""
          ],
          [
           "On June 15, 1985, Miyazaki and Takahata founded<br>the animation production company Studio Ghibli as<br>a subsidiary of Tokuma Shoten. Studio Ghibli's<br>first film was Laputa: Castle in the Sky (1986),<br>directed by Miyazaki. Some of the architecture in<br>the film was also inspired by a Welsh mining town;<br>Miyazaki witnessed the mining strike upon his<br>first visit to Wales in 1984 and admired the<br>miners' dedication to their work and community.<br>Laputa was released on August 2, 1986, by the Toei<br>Company. It sold around 775,000 tickets; Miyazaki<br>and Suzuki expressed their disappointment with the<br>film's box office figures. Miyazaki's following<br>film, My Neighbor Totoro, was released alongside<br>Takahata's Grave of the Fireflies in April 1988 to<br>ensure Studio Ghibli's financial status. My<br>Neighbor Totoro features the theme of the<br>relationship between the environment and humanity,<br>showing that harmony is the result of respecting<br>the environment. While the film received critical<br>acclaim, it was commercially unsuccessful at the<br>box office. However, merchandising was successful,<br>and the film was labeled as a cult classic."
          ],
          [
           "In 1987, Studio Ghibli acquired the rights to<br>create a film adaptation of Eiko Kadono's novel<br>Kiki's Delivery Service. Miyazaki's work on My<br>Neighbor Totoro prevented him from directing the<br>adaptation; Sunao Katabuchi was chosen as<br>director, and Nobuyuki Isshiki was hired as script<br>writer. Miyazaki's dissatisfaction of Isshiki's<br>first draft led him to make changes to the<br>project, ultimately taking the role of director.<br>Kadono was unhappy with the differences between<br>the book and the screenplay. Miyazaki and Suzuki<br>visited Kadono and invited her to the studio; she<br>allowed the project to continue. The film was<br>originally intended to be a 60-minute special, but<br>expanded into a feature film after Miyazaki<br>completed the storyboards and screenplay. Kiki's<br>Delivery Service premiered on July 29, 1989. It<br>earned ¥2.15 billion at the box office, and was<br>the highest-grossing film in Japan in 1989."
          ],
          [
           "From March to May 1989, Miyazaki's manga Hikōtei<br>Jidai was published in the magazine Model Graphix.<br>Miyazaki began production on a 45-minute in-flight<br>film for Japan Airlines based on the manga; Suzuki<br>ultimately extended the film into the<br>feature-length film, titled Porco Rosso, as<br>expectations grew. The outbreak of the Yugoslav<br>Wars in 1991 affected Miyazaki, prompting a more<br>sombre tone for the film; Miyazaki would later<br>refer to the film as \"foolish\", as its mature<br>tones were unsuitable for children. The film<br>featured anti-war themes, which Miyazaki would<br>later revisit. The airline remained a major<br>investor in the film, resulting in its initial<br>premiere as an in-flight film, prior to its<br>theatrical release on July 18, 1992. The film was<br>commercially successful and remained one of the<br>highest-grossing films in Japan for several years."
          ],
          [
           "Studio Ghibli set up its headquarters in Koganei,<br>Tokyo in August 1992. In November 1992, two<br>television spots directed by Miyazaki were<br>broadcast by Nippon Television Network (NTV): Sora<br>Iro no Tane, a 90-second spot adapted from the<br>illustrated story Sora Iro no Tane by Rieko<br>Nakagawa and Yuriko Omura; and Nandarou, a series<br>of five advertisements featuring an undefinable<br>creature. Miyazaki designed the storyboards and<br>wrote the screenplay for Whisper of the Heart<br>(1995), directed by Yoshifumi Kondō."
          ],
          [
           ""
          ],
          [
           "Miyazaki began work on the initial storyboards for<br>Princess Mononoke in August 1994, based on<br>preliminary thoughts and sketches from the late<br>1970s. While experiencing writer's block during<br>production, Miyazaki accepted a request for the<br>creation of On Your Mark, a music video for the<br>song of the same name by Chage and Aska. In the<br>production of the video, Miyazaki experimented<br>with computer animation to supplement traditional<br>animation. On Your Mark premiered as a short<br>before Whisper of the Heart. Despite the video's<br>popularity, Suzuki said that it was not given \"100<br>percent\" focus."
          ],
          [
           ""
          ],
          [
           "In May 1995, Miyazaki took a group of artists and<br>animators to the ancient forests of Yakushima and<br>the mountains of Shirakami-Sanchi, taking<br>photographs and making sketches. The landscapes in<br>the film were inspired by Yakushima. In Princess<br>Mononoke, Miyazaki revisited the ecological and<br>political themes of Nausicaä of the Valley of the<br>Wind. Miyazaki supervised the 144,000 cels in the<br>film, about 80,000 of which were key animation.<br>Princess Mononoke was produced with an estimated<br>budget of ¥2.35 billion (approximately US$23.5<br>million), making it the most expensive Japanese<br>animated film at the time. Approximately fifteen<br>minutes of the film uses computer animation: about<br>five minutes uses techniques such as 3D rendering,<br>digital composition, and texture mapping; the<br>remaining ten minutes uses digital ink and paint.<br>While the original intention was to digitally<br>paint 5,000 of the film's frames, time constraints<br>doubled this, though it remained below ten percent<br>of the final film."
          ],
          [
           "Upon its premiere on July 12, 1997, Princess<br>Mononoke was critically acclaimed, becoming the<br>first animated film to win the Japan Academy Film<br>Prize for Picture of the Year. The film was also<br>commercially successful, becoming the<br>highest-grossing film in Japan for several months.<br>Miramax Films purchased the film's distributions<br>rights for North America; while it was largely<br>unsuccessful at the box office, grossing about<br>US$2.3 million, it was seen as the introduction of<br>Studio Ghibli to global markets. Miyazaki claimed<br>Princess Mononoke would be his final film. Tokuma<br>Shoten merged with Studio Ghibli in June 1997.<br>Miyazaki left Studio Ghibli on January 14, 1998,<br>to create a new studio called Butaya, to be<br>succeeded by Kondō; however, Kondō's death<br>impacted Miyazaki, and he returned to Studio<br>Ghibli on January 16, 1999."
          ],
          [
           "Miyazaki's next film was conceived while on<br>vacation at a mountain cabin with his family and<br>five young girls who were family friends. Miyazaki<br>realized that he had not created a film for<br>10-year-old girls, and set out to do so. He read<br>shōjō manga magazines like Nakayoshi and Ribon for<br>inspiration, but felt they only offered subjects<br>on \"crushes and romance\", which is not what the<br>girls \"held dear in their hearts\". He decided to<br>produce the film about a female heroine whom they<br>could look up to. Production of the film, titled<br>Spirited Away, commenced in 2000 on a budget of<br>¥1.9 billion (US$15 million). As with Princess<br>Mononoke, the staff experimented with computer<br>animation, but kept the technology at a level to<br>enhance the story, not to \"steal the show\".<br>Spirited Away deals with symbols of human greed,<br>symbolizing the 1980s Japanese asset price bubble,<br>and a liminal journey through the realm of<br>spirits. The film was released on July 20, 2001;<br>it received critical acclaim, and is considered<br>among the greatest films of the 2000s. It won the<br>Japan Academy Film Prize for Picture of the Year,<br>and the Academy Award for Best Animated Feature.<br>The film was also commercially successful, earning<br>¥30.4 billion (US$289.1 million) at the box<br>office. It became the highest-grossing film in<br>Japan, a record it maintained for almost 20 years.<br>Following the death of Tokuma in September 2000,<br>Miyazaki served as the head of his funeral<br>committee."
          ],
          [
           "In September 2001, Studio Ghibli announced the<br>production of Howl's Moving Castle, based on the<br>novel by Diana Wynne Jones. Mamoru Hosoda of Toei<br>Animation was originally selected to direct the<br>film, but disagreements between Hosoda and Studio<br>Ghibli executives led to the project's<br>abandonment. After six months, Studio Ghibli<br>resurrected the project. Miyazaki was inspired to<br>direct the film upon reading Jones' novel, and was<br>struck by the image of a castle moving around the<br>countryside; the novel does not explain how the<br>castle moved, which led to Miyazaki's designs. He<br>traveled to Colmar and Riquewihr in Alsace,<br>France, to study the architecture and the<br>surroundings for the film's setting. Additional<br>inspiration came from the concepts of future<br>technology in Albert Robida's work. It was<br>released on November 20, 2004, and received<br>widespread critical acclaim. The film received the<br>Osella Award for Technical Excellence at the 61st<br>Venice International Film Festival, and was<br>nominated for the Academy Award for Best Animated<br>Feature. In Japan, the film grossed a record $14.5<br>million in its first week of release. It remains<br>among the highest-grossing films in Japan, with a<br>worldwide gross of over ¥19.3 billion. Miyazaki<br>received the honorary Golden Lion for Lifetime<br>Achievement award at the 62nd Venice International<br>Film Festival in 2005."
          ],
          [
           "In March 2005, Studio Ghibli split from Tokuma<br>Shoten. In the 1980s, Miyazaki had contacted<br>Ursula K. Le Guin expressing interest in producing<br>an adaptation of her Earthsea novels; unaware of<br>Miyazaki's work, Le Guin declined. Upon watching<br>My Neighbor Totoro several years later, Le Guin<br>expressed approval to the concept of the<br>adaptation. She met with Suzuki in August 2005,<br>who wanted Miyazaki's son Goro to direct the film,<br>as Miyazaki had wished to retire. Disappointed<br>that Miyazaki was not directing, but under the<br>impression that he would supervise his son's work,<br>Le Guin approved of the film's production.<br>Miyazaki later publicly opposed and criticized<br>Gorō's appointment as director. Upon Miyazaki's<br>viewing of the film, he wrote a message for his<br>son: \"It was made honestly, so it was good\"."
          ],
          [
           "Miyazaki designed the covers for several manga<br>novels in 2006, including A Trip to Tynemouth; he<br>also worked as editor, and created a short manga<br>for the book. Miyazaki's next film, Ponyo, began<br>production in May 2006. It was initially inspired<br>by \"The Little Mermaid\" by Hans Christian<br>Andersen, though began to take its own form as<br>production continued. Miyazaki aimed for the film<br>to celebrate the innocence and cheerfulness of a<br>child's universe. He intended for it to only use<br>traditional animation, and was intimately involved<br>with the artwork. He preferred to draw the sea and<br>waves himself, as he enjoyed experimenting. Ponyo<br>features 170,000 frames—a record for Miyazaki. The<br>film's seaside village was inspired by Tomonoura,<br>a town in Setonaikai National Park, where Miyazaki<br>stayed in 2005. The main character, Sōsuke, is<br>based on Gorō. Following its release on July 19,<br>2008, Ponyo was critically acclaimed, receiving<br>Animation of the Year at the 32nd Japan Academy<br>Film Prize. The film was also a commercial<br>success, earning ¥10 billion (US$93.2 million) in<br>its first month and ¥15.5 billion by the end of<br>2008, placing it among the highest-grossing films<br>in Japan."
          ],
          [
           ""
          ],
          [
           "In early 2009, Miyazaki began writing a manga<br>called Kaze Tachinu (風立ちぬ, The Wind Rises),<br>telling the story of Mitsubishi A6M Zero fighter<br>designer Jiro Horikoshi. The manga was first<br>published in two issues of the Model Graphix<br>magazine, published on February 25 and March 25,<br>2009. Miyazaki later co-wrote the screenplay for<br>Arrietty (2010) and From Up on Poppy Hill (2011),<br>directed by Hiromasa Yonebayashi and Gorō Miyazaki<br>respectively. Miyazaki wanted his next film to be<br>a sequel to Ponyo, but Suzuki convinced him to<br>instead adapt Kaze Tachinu to film. In November<br>2012, Studio Ghibli announced the production of<br>The Wind Rises, based on Kaze Tachinu, to be<br>released alongside Takahata's The Tale of the<br>Princess Kaguya."
          ],
          [
           "Miyazaki was inspired to create The Wind Rises<br>after reading a quote from Horikoshi: \"All I<br>wanted to do was to make something beautiful\".<br>Several scenes in The Wind Rises were inspired by<br>Tatsuo Hori's novel The Wind Has Risen (風立ちぬ), in<br>which Hori wrote about his life experiences with<br>his fiancée before she died from tuberculosis. The<br>female lead character's name, Naoko Satomi, was<br>borrowed from Hori's novel Naoko (菜穂子). The Wind<br>Rises continues to reflect Miyazaki's pacifist<br>stance, continuing the themes of his earlier<br>works, despite stating that condemning war was not<br>the intention of the film. The film premiered on<br>July 20, 2013, and received critical acclaim; it<br>was named Animation of the Year at the 37th Japan<br>Academy Film Prize, and was nominated for Best<br>Animated Feature at the 86th Academy Awards. It<br>was also commercially successful, grossing ¥11.6<br>billion (US$110 million) at the Japanese box<br>office, becoming the highest-grossing film in<br>Japan in 2013."
          ],
          [
           "In September 2013, Miyazaki announced that he was<br>retiring from the production of feature films due<br>to his age, but wished to continue working on the<br>displays at the Studio Ghibli Museum. Miyazaki was<br>awarded the Academy Honorary Award at the<br>Governors Awards in November 2014. He developed<br>Boro the Caterpillar, an animated short film which<br>was first discussed during pre-production for<br>Princess Mononoke. It was screened exclusively at<br>the Studio Ghibli Museum in July 2017. Around this<br>time, Miyazaki was working on a manga titled Teppo<br>Samurai. In February 2019, a four-part documentary<br>was broadcast on the NHK network titled 10 Years<br>with Hayao Miyazaki, documenting production of his<br>films in his private studio. In 2019, Miyazaki<br>approved a musical adaptation of Nausicaä of the<br>Valley of the Wind, as it was performed by a<br>kabuki troupe."
          ],
          [
           "In August 2016, Miyazaki proposed a new<br>feature-length film, Kimi-tachi wa Dō Ikiru ka<br>(titled The Boy and the Heron in English), on<br>which he began animation work without receiving<br>official approval. The film opened in Japanese<br>theaters on July 14, 2023. It was preceded by a<br>minimal marketing campaign, forgoing trailers,<br>commercials, and advertisements, a response from<br>Suzuki to his perceived oversaturation of<br>marketing materials in mainstream films. Despite<br>claims that The Boy and the Heron would be<br>Miyazaki's final film, Studio Ghibli vice<br>president Junichi Nishioka said in September 2023<br>that Miyazaki continued to attend the office daily<br>to plan his next film. Suzuki said he could no<br>longer convince Miyazaki to retire. The Boy and<br>the Heron won Miyazaki his second Academy Award<br>for Best Animated Feature at the 96th Academy<br>Awards, becoming the oldest director to do so;<br>Miyazaki did not attend the show due to his<br>advanced age."
          ],
          [
           ""
          ],
          [
           "Miyazaki has often criticized the state of the<br>animation industry, stating that some animators<br>lack a foundational understanding of their<br>subjects and do not prioritize realism. He is<br>particularly critical of Japanese animation,<br>saying that anime is \"produced by humans who can't<br>stand looking at other humans ... that's why the<br>industry is full of otaku !\". He has frequently<br>criticized otaku, including \"fanatics\" of guns and<br>fighter aircraft, declaring it a \"fetish\" and<br>refusing to identify himself as such. He bemoaned<br>the state of Disney animated films in 1988, saying<br>\"they show nothing but contempt for the audience\"."
          ],
          [
           "In 2013, Miyazaki criticized Japanese Prime<br>Minister Shinzo Abe's policies and the proposed<br>Constitutional amendment that would allow Abe to<br>revise the clause outlawing war as a means to<br>settle international disputes. Miyazaki felt Abe<br>wished to \"leave his name in history as a great<br>man who revised the Constitution and its<br>interpretation\", describing it as \"despicable\" and<br>stating \"People who don't think enough shouldn't<br>meddle with the constitution\". In 2015, Miyazaki<br>disapproved Abe's denial of Japan's military<br>aggression, stating Japan \"should clearly say that<br>[they] inflicted enormous damage on China and<br>express deep remorse over it\". He felt the<br>government should give a \"proper apology\" to<br>Korean comfort women who were forced to service<br>the Japanese army during World War II and<br>suggested the Senkaku Islands be \"split in half\"<br>or controlled by both Japan and China. After the<br>release of The Wind Rises in 2013, some online<br>critics labeled Miyazaki a \"traitor\" and<br>\"anti-Japanese\", describing the film as overly<br>\"left-wing\"; Miyazaki recognized leftist values in<br>his movies, citing his influence by and<br>appreciation of communism as defined by Karl Marx,<br>but criticized the Soviet Union's political<br>system."
          ],
          [
           "When Spirited Away was nominated at the 75th<br>Academy Awards in 2003, Miyazaki refused to attend<br>in protest of the United States's involvement in<br>the Iraq War, and later said he \"didn't want to<br>visit a country that was bombing Iraq\". He did not<br>publicly express this opinion at the request of<br>his producer until 2009 when he lifted his boycott<br>and attended San Diego Comic Con International as<br>a favor to his friend John Lasseter. Miyazaki also<br>expressed his opinion about the terrorist attack<br>at the offices of the French satirical magazine<br>Charlie Hebdo, criticizing the magazine's decision<br>to publish the content cited as the catalyst for<br>the incident; he felt caricatures should be made<br>of politicians, not cultures. In November 2016,<br>Miyazaki stated that he believed \"many of the<br>people who voted for Brexit and Trump\" were<br>affected by the increase in unemployment due to<br>companies \"building cars in Mexico because of low<br>wages and [selling] them in the US\". He did not<br>think that Donald Trump would be elected<br>president, calling it \"a terrible thing\", but said<br>that Trump's political opponent Hillary Clinton<br>was \"terrible as well\"."
          ],
          [
           ""
          ],
          [
           "Miyazaki's works are characterized by the<br>recurrence of themes such as feminism,<br>environmentalism, pacifism, love, and family. His<br>narratives are also notable for not pitting a hero<br>against an unsympathetic antagonist; Miyazaki felt<br>Spirited Away's Chihiro \"manages not because she<br>has destroyed the 'evil', but because she has<br>acquired the ability to survive\"."
          ],
          [
           "Miyazaki's films often emphasize environmentalism<br>and the Earth's fragility. Margaret Talbot stated<br>that Miyazaki dislikes modern technology, and<br>believes much of modern culture is \"thin and<br>shallow and fake\"; he anticipates a time with \"no<br>more high-rises\". Miyazaki felt frustrated growing<br>up in the Shōwa period from 1955 to 1965 because<br>\"nature—the mountains and rivers—was being<br>destroyed in the name of economic progress\". Peter<br>Schellhase of The Imaginative Conservative<br>identified that several antagonists of Miyazaki's<br>films \"attempt to dominate nature in pursuit of<br>political domination, and are ultimately<br>destructive to both nature and human<br>civilization\". Miyazaki is critical of<br>exploitation under both communism and capitalism,<br>as well as globalization and its effects on modern<br>life, believing that \"a company is common property<br>of the people that work there\". Ram Prakash<br>Dwivedi identified values of Mahatma Gandhi in the<br>films of Miyazaki."
          ],
          [
           "Several of Miyazaki's films feature anti-war<br>themes. Daisuke Akimoto of Animation Studies<br>categorized Porco Rosso as \"anti-war propaganda\"<br>and felt the protagonist, Porco, transforms into a<br>pig partly due to his extreme distaste of<br>militarism. Akimoto also argues that The Wind<br>Rises reflects Miyazaki's \"antiwar pacifism\",<br>despite the latter stating that the film does not<br>attempt to \"denounce\" war. Schellhase also<br>identifies Princess Mononoke as a pacifist film<br>due to the protagonist, Ashitaka; instead of<br>joining the campaign of revenge against humankind,<br>as his ethnic history would lead him to do,<br>Ashitaka strives for peace. David Loy and Linda<br>Goodhew argue that both Nausicaä of the Valley of<br>the Wind and Princess Mononoke do not depict<br>traditional evil, but the Buddhist roots of evil:<br>greed, ill will, and delusion; according to<br>Buddhism, the roots of evil must transform into<br>\"generosity, loving-kindness and wisdom\" in order<br>to overcome suffering, and both Nausicaä and<br>Ashitaka accomplish this. When characters in<br>Miyazaki's films are forced to engage in violence,<br>it is shown as being a difficult task; in Howl's<br>Moving Castle, Howl is forced to fight an<br>inescapable battle in defense of those he loves,<br>and it almost destroys him, though he is<br>ultimately saved by Sophie's love and bravery."
          ],
          [
           "Suzuki described Miyazaki as a feminist in<br>reference to his attitude to female workers.<br>Miyazaki has described his female characters as<br>\"brave, self-sufficient girls that don't think<br>twice about fighting for what they believe in with<br>all their heart\", stating that they may \"need a<br>friend, or a supporter, but never a saviour\" and<br>that \"any woman is just as capable of being a hero<br>as any man\". Nausicaä of the Valley of the Wind<br>was lauded for its positive portrayal of women,<br>particularly protagonist Nausicaä. Schellhase<br>noted that the female characters in Miyazaki's<br>films are not objectified or sexualized, and<br>possess complex and individual characteristics<br>absent from Hollywood productions. Schellhase also<br>identified a \"coming of age\" element for the<br>heroines in Miyazaki's films, as they each<br>discover \"individual personality and strengths\".<br>Gabrielle Bellot of The Atlantic wrote that, in<br>his films, Miyazaki \"shows a keen understanding of<br>the complexities of what it might mean to be a<br>woman\". In particular, Bellot cites Nausicaä of<br>the Valley of the Wind, praising the film's<br>challenging of gender expectations, and the strong<br>and independent nature of Nausicaä. Bellot also<br>noted that Princess Mononoke's San represents the<br>\"conflict between selfhood and expression\"."
          ],
          [
           "Miyazaki is concerned with the sense of wonder in<br>young people, seeking to maintain themes of love<br>and family in his films. Michael Toscano of<br>Curator found that Miyazaki \"fears Japanese<br>children are dimmed by a culture of<br>overconsumption, overprotection, utilitarian<br>education, careerism, techno-industrialism, and a<br>secularism that is swallowing Japan's native<br>animism\". Schellhase wrote that several of<br>Miyazaki's works feature themes of love and<br>romance, but felt emphasis is placed on \"the way<br>lonely and vulnerable individuals are integrated<br>into relationships of mutual reliance and<br>responsibility, which generally benefit everyone<br>around them\". He also found that many of the<br>protagonists in Miyazaki's films present an<br>idealized image of families, whereas others are<br>dysfunctional."
          ],
          [
           ""
          ],
          [
           "Miyazaki forgoes traditional screenplays in his<br>productions, instead developing the film's<br>narrative as he designs the storyboards. \"We never<br>know where the story will go but we just keep<br>working on the film as it develops,\" he said. In<br>each of his films, Miyazaki has employed<br>traditional animation methods, drawing each frame<br>by hand; computer-generated imagery has been<br>employed in several of his later films, beginning<br>with Princess Mononoke, to \"enrich the visual<br>look\", though he ensures that each film can<br>\"retain the right ratio between working by hand<br>and computer ... and still be able to call my<br>films 2D\". He oversees every frame of his films.<br>For character designs, Miyazaki draws original<br>drafts used by animation directors to create<br>reference sheets, which are then corrected by<br>Miyazaki in his style."
          ],
          [
           "Miyazaki has cited several Japanese artists as his<br>influences, including Sanpei Shirato, Osamu<br>Tezuka, Soji Yamakawa, and Isao Takahata. A number<br>of Western authors have also influenced his works,<br>including Frédéric Back, Lewis Carroll, Roald<br>Dahl, Jean Giraud, Paul Grimault, Ursula K. Le<br>Guin, and Yuri Norstein, as well as animation<br>studio Aardman Animations (specifically the works<br>of Nick Park). Specific works that have influenced<br>Miyazaki include Animal Farm (1945), The Snow<br>Queen (1957), and The King and the Mockingbird<br>(1980); The Snow Queen is said to be the true<br>catalyst for Miyazaki's filmography, influencing<br>his training and work. When animating young<br>children, Miyazaki often takes inspiration from<br>his friends' children, as well as memories of his<br>own childhood."
          ],
          [
           ""
          ],
          [
           "Miyazaki married fellow animator Akemi Ōta in<br>October 1965; the two had met while colleagues at<br>Toei Animation. The couple have two sons: Goro,<br>born in January 1967, and Keisuke, born in April<br>1969. Miyazaki felt that becoming a father changed<br>him, as he tried to produce work that would please<br>his children. Miyazaki initially fulfilled a<br>promise to his wife that they would both continue<br>to work after Goro's birth, dropping him off at<br>preschool for the day; however, upon seeing Goro's<br>exhaustion walking home one day, Miyazaki decided<br>that they could not continue, and his wife stayed<br>at home to raise their children. Miyazaki's<br>dedication to his work harmed his relationship<br>with his children, as he was often absent. Goro<br>watched his father's works in an attempt to<br>\"understand\" him, since the two rarely talked.<br>Miyazaki said that he \"tried to be a good father,<br>but in the end [he] wasn't a very good parent\".<br>During the production of Tales from Earthsea in<br>2006, Goro said that his father \"gets zero marks<br>as a father but full marks as a director of<br>animated films\"."
          ],
          [
           "Goro worked at a landscape design firm before<br>beginning to work at the Ghibli Museum; he<br>designed the garden on its rooftop and eventually<br>became its curator. Keisuke studied forestry at<br>Shinshu University and works as a wood artist; he<br>designed a woodcut print that appears in Whisper<br>of the Heart. Miyazaki's niece, Mei Okuyama, who<br>was the inspiration behind the character Mei in My<br>Neighbor Totoro, is married to animation artist<br>Daisuke Tsutsumi."
          ],
          [
           ""
          ],
          [
           "Miyazaki was described as the \"godfather of<br>animation in Japan\" by BBC's Tessa Wong in 2016,<br>citing his craftsmanship and humanity, the themes<br>of his films, and his inspiration to younger<br>artists. Courtney Lanning of Arkansas<br>Democrat-Gazette named him one of the world's<br>greatest animators, comparing him to Osamu Tezuka<br>and Walt Disney. Swapnil Dhruv Bose of Far Out<br>Magazine wrote that Miyazaki's work \"has shaped<br>not only the future of animation but also<br>filmmaking in general\", and that it helped<br>\"generation after generation of young viewers to<br>observe the magic that exists in the mundane\".<br>Richard James Havis of South China Morning Post<br>called him a \"genius ... who sets exacting<br>standards for himself, his peers and studio<br>staff\". Paste's Toussaint Egan described Miyazaki<br>as \"one of anime's great auteurs\", whose \"stories<br>of such singular thematic vision and unmistakable<br>aesthetic\" captured viewers otherwise unfamiliar<br>with anime. Miyazaki became the subject of an<br>exhibit at the Academy Museum of Motion Pictures<br>in Los Angeles in 2021, featuring over 400 objects<br>from his films."
          ],
          [
           "Miyazaki has frequently been cited as an<br>inspiration to numerous animators, directors and<br>writers around the world, including Wes Anderson,<br>James Cameron, Dean DeBlois, Guillermo del Toro,<br>Pete Docter, Mamoru Hosoda, Bong Joon-ho, Travis<br>Knight, John Lasseter, Nick Park, Henry Selick,<br>Makoto Shinkai, and Steven Spielberg. Glen Keane<br>said Miyazaki is a \"huge influence\" on Walt Disney<br>Animation Studios and has been \"part of our<br>heritage\" ever since The Rescuers Down Under<br>(1990). The Disney Renaissance era was also<br>prompted by competition with the development of<br>Miyazaki's films. Artists from Pixar and Aardman<br>Studios signed a tribute stating, \"You're our<br>inspiration, Miyazaki-san!\" He has also been cited<br>as inspiration for video game designers including<br>Shigeru Miyamoto on The Legend of Zelda and<br>Hironobu Sakaguchi on Final Fantasy, as well as<br>the television series Avatar: The Last Airbender,<br>and the video game Ori and the Blind Forest<br>(2015)."
          ],
          [
           "Studio Ghibli has searched for some time for<br>Miyazaki and Suzuki's successor to lead the<br>studio; Kondō, the director of Whisper of the<br>Heart, was initially considered, but died from a<br>sudden heart attack in 1998. Some candidates were<br>considered by 2023—including Miyazaki's son Goro,<br>who declined—but the studio was not able to find a<br>successor."
          ],
          [
           ""
          ],
          [
           "The Castle of Cagliostro (1979)"
          ],
          [
           "Nausicaä of the Valley of the Wind (1984)"
          ],
          [
           "Laputa: Castle in the Sky (1986)"
          ],
          [
           "My Neighbor Totoro (1988)"
          ],
          [
           "Kiki's Delivery Service (1989)"
          ],
          [
           "Porco Rosso (1992)"
          ],
          [
           "Princess Mononoke (1997)"
          ],
          [
           "Spirited Away (2001)"
          ],
          [
           "Howl's Moving Castle (2004)"
          ],
          [
           "Ponyo (2008)"
          ],
          [
           "The Wind Rises (2013)"
          ],
          [
           "The Boy and the Heron (2023)"
          ],
          [
           ""
          ],
          [
           "Miyazaki won the Ōfuji Noburō Award at the<br>Mainichi Film Awards for The Castle of Cagliostro<br>(1979), Nausicaä of the Valley of the Wind (1984),<br>Laputa: Castle in the Sky (1986), and My Neighbor<br>Totoro (1988), and the Mainichi Film Award for<br>Best Animation Film for Kiki's Delivery Service<br>(1989), Porco Rosso (1992), Princess Mononoke<br>(1997), Spirited Away (2001), and Whale Hunt<br>(2001). Spirited Away and The Boy and the Heron<br>were awarded the Academy Award for Best Animated<br>Feature, while Howl's Moving Castle (2004) and The<br>Wind Rises (2013) received nominations. He was<br>named a Person of Cultural Merit by the Japanese<br>government in November 2012, for outstanding<br>cultural contributions. In 2024, Time named him<br>one of the 100 most influential people in the<br>world, and Gold House honored him on its Most<br>Impactful Asians A100 list. His other accolades<br>include several Annie Awards, Japan Academy Film<br>Prizes, Kinema Junpo Awards, and Tokyo Anime<br>Awards."
          ],
          [
           ""
          ],
          [
           "Studio Ghibli (in Japanese)"
          ],
          [
           "Hayao Miyazaki at Anime News Network's<br>encyclopedia"
          ],
          [
           "Hayao Miyazaki at IMDb"
          ],
          [
           "Hayao Miyazaki at Library of Congress, with 14<br>library catalogue records"
          ]
         ],
         "hovertemplate": "x=%{x}<br>y=%{y}<br>text=%{customdata[0]}<extra></extra>",
         "legendgroup": "",
         "marker": {
          "color": "#636efa",
          "symbol": "circle"
         },
         "mode": "markers",
         "name": "",
         "orientation": "v",
         "showlegend": false,
         "type": "scatter",
         "x": [
          -153.7073,
          -26.375402,
          -57.974106,
          -252.15317,
          332.3448,
          72.80634,
          260.55597,
          108.90935,
          -73.80998,
          -101.161835,
          332.3448,
          -20.016586,
          49.994583,
          15.910954,
          332.3448,
          -4.2912655,
          33.572086,
          332.3448,
          -53.370457,
          332.3448,
          27.47214,
          83.149925,
          -103.44633,
          5.454451,
          332.3448,
          -161.41771,
          332.3448,
          -103.526924,
          -68.6053,
          -121.09725,
          -6.872194,
          47.52461,
          -28.566366,
          260.55597,
          99.93364,
          105.175156,
          -109.121155,
          -199.88805,
          332.3448,
          -245.76927,
          -266.31033,
          -246.21747,
          332.3448,
          -314.9666,
          -304.05396,
          -244.47002,
          -196.84013,
          -299.33237,
          260.55597,
          -141.38046,
          -134.01477,
          332.3448,
          -62.672806,
          110.17252,
          332.3448,
          -207.17258,
          -172.19426,
          -261.11838,
          332.3448,
          10.176023,
          -25.239523,
          53.52428,
          95.19213,
          105.647415,
          44.28866,
          -42.645916,
          176.38759,
          38.288887,
          191.82274,
          123.40842,
          168.7038,
          332.3448,
          -63.01967,
          332.3448,
          196.5436,
          -192.42447,
          -163.47614,
          -143.37262
         ],
         "xaxis": "x",
         "y": [
          39.250156,
          16.409048,
          53.49211,
          77.09999,
          -135.35147,
          -24.070494,
          -192.25116,
          5.1301847,
          -21.239271,
          10.851209,
          -135.35147,
          -35.548244,
          48.185627,
          3.5094748,
          -135.35147,
          66.262856,
          104.197685,
          -135.35147,
          185.4518,
          -135.35147,
          -69.3124,
          -184.26509,
          226.46776,
          -172.74997,
          -135.35147,
          -158.19923,
          -135.35147,
          -138.97119,
          -186.53354,
          -215.7582,
          143.81796,
          -112.51613,
          -115.278656,
          -192.25116,
          92.848724,
          144.25145,
          77.3914,
          -66.49491,
          -135.35147,
          -3.276072,
          169.69167,
          -180.21211,
          -135.35147,
          116.39156,
          18.737625,
          221.88455,
          231.58609,
          64.907364,
          -192.25116,
          -103.861084,
          -38.951855,
          -135.35147,
          -74.04286,
          -93.516205,
          -135.35147,
          51.190784,
          -10.621972,
          -101.23624,
          -135.35147,
          241.53008,
          291.13794,
          248.21399,
          302.1447,
          -221.52399,
          331.7563,
          -238.79259,
          183.88734,
          182.37776,
          21.766838,
          208.52255,
          267.30847,
          -135.35147,
          99.53551,
          -135.35147,
          83.0813,
          128.79918,
          93.95602,
          142.1219
         ],
         "yaxis": "y"
        }
       ],
       "layout": {
        "legend": {
         "tracegroupgap": 0
        },
        "template": {
         "data": {
          "bar": [
           {
            "error_x": {
             "color": "#2a3f5f"
            },
            "error_y": {
             "color": "#2a3f5f"
            },
            "marker": {
             "line": {
              "color": "#E5ECF6",
              "width": 0.5
             },
             "pattern": {
              "fillmode": "overlay",
              "size": 10,
              "solidity": 0.2
             }
            },
            "type": "bar"
           }
          ],
          "barpolar": [
           {
            "marker": {
             "line": {
              "color": "#E5ECF6",
              "width": 0.5
             },
             "pattern": {
              "fillmode": "overlay",
              "size": 10,
              "solidity": 0.2
             }
            },
            "type": "barpolar"
           }
          ],
          "carpet": [
           {
            "aaxis": {
             "endlinecolor": "#2a3f5f",
             "gridcolor": "white",
             "linecolor": "white",
             "minorgridcolor": "white",
             "startlinecolor": "#2a3f5f"
            },
            "baxis": {
             "endlinecolor": "#2a3f5f",
             "gridcolor": "white",
             "linecolor": "white",
             "minorgridcolor": "white",
             "startlinecolor": "#2a3f5f"
            },
            "type": "carpet"
           }
          ],
          "choropleth": [
           {
            "colorbar": {
             "outlinewidth": 0,
             "ticks": ""
            },
            "type": "choropleth"
           }
          ],
          "contour": [
           {
            "colorbar": {
             "outlinewidth": 0,
             "ticks": ""
            },
            "colorscale": [
             [
              0,
              "#0d0887"
             ],
             [
              0.1111111111111111,
              "#46039f"
             ],
             [
              0.2222222222222222,
              "#7201a8"
             ],
             [
              0.3333333333333333,
              "#9c179e"
             ],
             [
              0.4444444444444444,
              "#bd3786"
             ],
             [
              0.5555555555555556,
              "#d8576b"
             ],
             [
              0.6666666666666666,
              "#ed7953"
             ],
             [
              0.7777777777777778,
              "#fb9f3a"
             ],
             [
              0.8888888888888888,
              "#fdca26"
             ],
             [
              1,
              "#f0f921"
             ]
            ],
            "type": "contour"
           }
          ],
          "contourcarpet": [
           {
            "colorbar": {
             "outlinewidth": 0,
             "ticks": ""
            },
            "type": "contourcarpet"
           }
          ],
          "heatmap": [
           {
            "colorbar": {
             "outlinewidth": 0,
             "ticks": ""
            },
            "colorscale": [
             [
              0,
              "#0d0887"
             ],
             [
              0.1111111111111111,
              "#46039f"
             ],
             [
              0.2222222222222222,
              "#7201a8"
             ],
             [
              0.3333333333333333,
              "#9c179e"
             ],
             [
              0.4444444444444444,
              "#bd3786"
             ],
             [
              0.5555555555555556,
              "#d8576b"
             ],
             [
              0.6666666666666666,
              "#ed7953"
             ],
             [
              0.7777777777777778,
              "#fb9f3a"
             ],
             [
              0.8888888888888888,
              "#fdca26"
             ],
             [
              1,
              "#f0f921"
             ]
            ],
            "type": "heatmap"
           }
          ],
          "heatmapgl": [
           {
            "colorbar": {
             "outlinewidth": 0,
             "ticks": ""
            },
            "colorscale": [
             [
              0,
              "#0d0887"
             ],
             [
              0.1111111111111111,
              "#46039f"
             ],
             [
              0.2222222222222222,
              "#7201a8"
             ],
             [
              0.3333333333333333,
              "#9c179e"
             ],
             [
              0.4444444444444444,
              "#bd3786"
             ],
             [
              0.5555555555555556,
              "#d8576b"
             ],
             [
              0.6666666666666666,
              "#ed7953"
             ],
             [
              0.7777777777777778,
              "#fb9f3a"
             ],
             [
              0.8888888888888888,
              "#fdca26"
             ],
             [
              1,
              "#f0f921"
             ]
            ],
            "type": "heatmapgl"
           }
          ],
          "histogram": [
           {
            "marker": {
             "pattern": {
              "fillmode": "overlay",
              "size": 10,
              "solidity": 0.2
             }
            },
            "type": "histogram"
           }
          ],
          "histogram2d": [
           {
            "colorbar": {
             "outlinewidth": 0,
             "ticks": ""
            },
            "colorscale": [
             [
              0,
              "#0d0887"
             ],
             [
              0.1111111111111111,
              "#46039f"
             ],
             [
              0.2222222222222222,
              "#7201a8"
             ],
             [
              0.3333333333333333,
              "#9c179e"
             ],
             [
              0.4444444444444444,
              "#bd3786"
             ],
             [
              0.5555555555555556,
              "#d8576b"
             ],
             [
              0.6666666666666666,
              "#ed7953"
             ],
             [
              0.7777777777777778,
              "#fb9f3a"
             ],
             [
              0.8888888888888888,
              "#fdca26"
             ],
             [
              1,
              "#f0f921"
             ]
            ],
            "type": "histogram2d"
           }
          ],
          "histogram2dcontour": [
           {
            "colorbar": {
             "outlinewidth": 0,
             "ticks": ""
            },
            "colorscale": [
             [
              0,
              "#0d0887"
             ],
             [
              0.1111111111111111,
              "#46039f"
             ],
             [
              0.2222222222222222,
              "#7201a8"
             ],
             [
              0.3333333333333333,
              "#9c179e"
             ],
             [
              0.4444444444444444,
              "#bd3786"
             ],
             [
              0.5555555555555556,
              "#d8576b"
             ],
             [
              0.6666666666666666,
              "#ed7953"
             ],
             [
              0.7777777777777778,
              "#fb9f3a"
             ],
             [
              0.8888888888888888,
              "#fdca26"
             ],
             [
              1,
              "#f0f921"
             ]
            ],
            "type": "histogram2dcontour"
           }
          ],
          "mesh3d": [
           {
            "colorbar": {
             "outlinewidth": 0,
             "ticks": ""
            },
            "type": "mesh3d"
           }
          ],
          "parcoords": [
           {
            "line": {
             "colorbar": {
              "outlinewidth": 0,
              "ticks": ""
             }
            },
            "type": "parcoords"
           }
          ],
          "pie": [
           {
            "automargin": true,
            "type": "pie"
           }
          ],
          "scatter": [
           {
            "fillpattern": {
             "fillmode": "overlay",
             "size": 10,
             "solidity": 0.2
            },
            "type": "scatter"
           }
          ],
          "scatter3d": [
           {
            "line": {
             "colorbar": {
              "outlinewidth": 0,
              "ticks": ""
             }
            },
            "marker": {
             "colorbar": {
              "outlinewidth": 0,
              "ticks": ""
             }
            },
            "type": "scatter3d"
           }
          ],
          "scattercarpet": [
           {
            "marker": {
             "colorbar": {
              "outlinewidth": 0,
              "ticks": ""
             }
            },
            "type": "scattercarpet"
           }
          ],
          "scattergeo": [
           {
            "marker": {
             "colorbar": {
              "outlinewidth": 0,
              "ticks": ""
             }
            },
            "type": "scattergeo"
           }
          ],
          "scattergl": [
           {
            "marker": {
             "colorbar": {
              "outlinewidth": 0,
              "ticks": ""
             }
            },
            "type": "scattergl"
           }
          ],
          "scattermapbox": [
           {
            "marker": {
             "colorbar": {
              "outlinewidth": 0,
              "ticks": ""
             }
            },
            "type": "scattermapbox"
           }
          ],
          "scatterpolar": [
           {
            "marker": {
             "colorbar": {
              "outlinewidth": 0,
              "ticks": ""
             }
            },
            "type": "scatterpolar"
           }
          ],
          "scatterpolargl": [
           {
            "marker": {
             "colorbar": {
              "outlinewidth": 0,
              "ticks": ""
             }
            },
            "type": "scatterpolargl"
           }
          ],
          "scatterternary": [
           {
            "marker": {
             "colorbar": {
              "outlinewidth": 0,
              "ticks": ""
             }
            },
            "type": "scatterternary"
           }
          ],
          "surface": [
           {
            "colorbar": {
             "outlinewidth": 0,
             "ticks": ""
            },
            "colorscale": [
             [
              0,
              "#0d0887"
             ],
             [
              0.1111111111111111,
              "#46039f"
             ],
             [
              0.2222222222222222,
              "#7201a8"
             ],
             [
              0.3333333333333333,
              "#9c179e"
             ],
             [
              0.4444444444444444,
              "#bd3786"
             ],
             [
              0.5555555555555556,
              "#d8576b"
             ],
             [
              0.6666666666666666,
              "#ed7953"
             ],
             [
              0.7777777777777778,
              "#fb9f3a"
             ],
             [
              0.8888888888888888,
              "#fdca26"
             ],
             [
              1,
              "#f0f921"
             ]
            ],
            "type": "surface"
           }
          ],
          "table": [
           {
            "cells": {
             "fill": {
              "color": "#EBF0F8"
             },
             "line": {
              "color": "white"
             }
            },
            "header": {
             "fill": {
              "color": "#C8D4E3"
             },
             "line": {
              "color": "white"
             }
            },
            "type": "table"
           }
          ]
         },
         "layout": {
          "annotationdefaults": {
           "arrowcolor": "#2a3f5f",
           "arrowhead": 0,
           "arrowwidth": 1
          },
          "autotypenumbers": "strict",
          "coloraxis": {
           "colorbar": {
            "outlinewidth": 0,
            "ticks": ""
           }
          },
          "colorscale": {
           "diverging": [
            [
             0,
             "#8e0152"
            ],
            [
             0.1,
             "#c51b7d"
            ],
            [
             0.2,
             "#de77ae"
            ],
            [
             0.3,
             "#f1b6da"
            ],
            [
             0.4,
             "#fde0ef"
            ],
            [
             0.5,
             "#f7f7f7"
            ],
            [
             0.6,
             "#e6f5d0"
            ],
            [
             0.7,
             "#b8e186"
            ],
            [
             0.8,
             "#7fbc41"
            ],
            [
             0.9,
             "#4d9221"
            ],
            [
             1,
             "#276419"
            ]
           ],
           "sequential": [
            [
             0,
             "#0d0887"
            ],
            [
             0.1111111111111111,
             "#46039f"
            ],
            [
             0.2222222222222222,
             "#7201a8"
            ],
            [
             0.3333333333333333,
             "#9c179e"
            ],
            [
             0.4444444444444444,
             "#bd3786"
            ],
            [
             0.5555555555555556,
             "#d8576b"
            ],
            [
             0.6666666666666666,
             "#ed7953"
            ],
            [
             0.7777777777777778,
             "#fb9f3a"
            ],
            [
             0.8888888888888888,
             "#fdca26"
            ],
            [
             1,
             "#f0f921"
            ]
           ],
           "sequentialminus": [
            [
             0,
             "#0d0887"
            ],
            [
             0.1111111111111111,
             "#46039f"
            ],
            [
             0.2222222222222222,
             "#7201a8"
            ],
            [
             0.3333333333333333,
             "#9c179e"
            ],
            [
             0.4444444444444444,
             "#bd3786"
            ],
            [
             0.5555555555555556,
             "#d8576b"
            ],
            [
             0.6666666666666666,
             "#ed7953"
            ],
            [
             0.7777777777777778,
             "#fb9f3a"
            ],
            [
             0.8888888888888888,
             "#fdca26"
            ],
            [
             1,
             "#f0f921"
            ]
           ]
          },
          "colorway": [
           "#636efa",
           "#EF553B",
           "#00cc96",
           "#ab63fa",
           "#FFA15A",
           "#19d3f3",
           "#FF6692",
           "#B6E880",
           "#FF97FF",
           "#FECB52"
          ],
          "font": {
           "color": "#2a3f5f"
          },
          "geo": {
           "bgcolor": "white",
           "lakecolor": "white",
           "landcolor": "#E5ECF6",
           "showlakes": true,
           "showland": true,
           "subunitcolor": "white"
          },
          "hoverlabel": {
           "align": "left"
          },
          "hovermode": "closest",
          "mapbox": {
           "style": "light"
          },
          "paper_bgcolor": "white",
          "plot_bgcolor": "#E5ECF6",
          "polar": {
           "angularaxis": {
            "gridcolor": "white",
            "linecolor": "white",
            "ticks": ""
           },
           "bgcolor": "#E5ECF6",
           "radialaxis": {
            "gridcolor": "white",
            "linecolor": "white",
            "ticks": ""
           }
          },
          "scene": {
           "xaxis": {
            "backgroundcolor": "#E5ECF6",
            "gridcolor": "white",
            "gridwidth": 2,
            "linecolor": "white",
            "showbackground": true,
            "ticks": "",
            "zerolinecolor": "white"
           },
           "yaxis": {
            "backgroundcolor": "#E5ECF6",
            "gridcolor": "white",
            "gridwidth": 2,
            "linecolor": "white",
            "showbackground": true,
            "ticks": "",
            "zerolinecolor": "white"
           },
           "zaxis": {
            "backgroundcolor": "#E5ECF6",
            "gridcolor": "white",
            "gridwidth": 2,
            "linecolor": "white",
            "showbackground": true,
            "ticks": "",
            "zerolinecolor": "white"
           }
          },
          "shapedefaults": {
           "line": {
            "color": "#2a3f5f"
           }
          },
          "ternary": {
           "aaxis": {
            "gridcolor": "white",
            "linecolor": "white",
            "ticks": ""
           },
           "baxis": {
            "gridcolor": "white",
            "linecolor": "white",
            "ticks": ""
           },
           "bgcolor": "#E5ECF6",
           "caxis": {
            "gridcolor": "white",
            "linecolor": "white",
            "ticks": ""
           }
          },
          "title": {
           "x": 0.05
          },
          "xaxis": {
           "automargin": true,
           "gridcolor": "white",
           "linecolor": "white",
           "ticks": "",
           "title": {
            "standoff": 15
           },
           "zerolinecolor": "white",
           "zerolinewidth": 2
          },
          "yaxis": {
           "automargin": true,
           "gridcolor": "white",
           "linecolor": "white",
           "ticks": "",
           "title": {
            "standoff": 15
           },
           "zerolinecolor": "white",
           "zerolinewidth": 2
          }
         }
        },
        "title": {
         "text": "Embeddings de Wikipedia de Hayao Miyazaki"
        },
        "xaxis": {
         "anchor": "y",
         "domain": [
          0,
          1
         ],
         "title": {
          "text": "x"
         }
        },
        "yaxis": {
         "anchor": "x",
         "domain": [
          0,
          1
         ],
         "title": {
          "text": "y"
         }
        }
       }
      }
     },
     "metadata": {},
     "output_type": "display_data"
    }
   ],
   "source": [
    "import plotly.express as px\n",
    "\n",
    "# Ahora, intenta crear el gráfico de dispersión nuevamente\n",
    "fig = px.scatter(\n",
    "    df_embeddings, x='x', y='y',\n",
    "    hover_data=['text'],  # Ahora 'text' debería ser reconocido correctamente\n",
    "    title='Embeddings de Wikipedia de Hayao Miyazaki'\n",
    ")\n",
    "\n",
    "fig.show()"
   ]
  },
  {
   "cell_type": "markdown",
   "metadata": {},
   "source": [
    "# Embed the Query"
   ]
  },
  {
   "cell_type": "code",
   "execution_count": 11,
   "metadata": {},
   "outputs": [],
   "source": [
    "query = \"What was studio Ghiblis's first film?\"\n",
    "query_embed = embedding_model.encode(query, normalize_embeddings=True)"
   ]
  },
  {
   "cell_type": "code",
   "execution_count": 12,
   "metadata": {},
   "outputs": [
    {
     "data": {
      "text/plain": [
       "(768,)"
      ]
     },
     "execution_count": 12,
     "metadata": {},
     "output_type": "execute_result"
    }
   ],
   "source": [
    "query_embed.shape"
   ]
  },
  {
   "cell_type": "markdown",
   "metadata": {},
   "source": [
    "## Cosine Similarity"
   ]
  },
  {
   "cell_type": "markdown",
   "metadata": {},
   "source": [
    "$$\n",
    "\\text{similarity} = \\frac{\\mathbf{a} \\cdot \\mathbf{b}}{||\\mathbf{a}||_2 \\cdot ||\\mathbf{b}||_2}\n",
    "$$"
   ]
  },
  {
   "cell_type": "code",
   "execution_count": 13,
   "metadata": {},
   "outputs": [],
   "source": [
    "# vamos a utilizar la distnacia del coseno para medir la similitud entre el query y los documentos\n",
    "import numpy as np\n",
    "similarities = np.dot(docs_embedded, query_embed) "
   ]
  },
  {
   "cell_type": "markdown",
   "metadata": {},
   "source": [
    "- `docs_embedded` es una matriz de tamaño $$ (n, d) $$ donde $$ n $$ es el número de documentos y $$ d $$ es la dimensión de los embeddings.\n",
    "- `query_embed` es un vector de tamaño $$ (d,) $$.\n",
    "\n",
    "Para realizar la operación de producto punto entre `docs_embedded` y `query_embed`, necesitamos que `query_embed` sea una matriz columna de tamaño $$ (d, 1) $$. Esto se logra tomando la transpuesta del vector de consulta, convirtiéndolo en una matriz columna:"
   ]
  },
  {
   "cell_type": "code",
   "execution_count": 14,
   "metadata": {},
   "outputs": [],
   "source": [
    "# ordenamos y guardamos los indices embeddings de menor a mayor similitud\n",
    "sorted_indexs = np.argsort(similarities, axis=0)"
   ]
  },
  {
   "cell_type": "code",
   "execution_count": 15,
   "metadata": {},
   "outputs": [],
   "source": [
    "# obtenemos los indices de los 3 documentos más similares   \n",
    "top_3_idx = sorted_indexs[-3:].flatten()"
   ]
  },
  {
   "cell_type": "code",
   "execution_count": 16,
   "metadata": {},
   "outputs": [],
   "source": [
    "most_similar_paragraphs = [paragraphs[i] for i in top_3_idx]"
   ]
  },
  {
   "cell_type": "code",
   "execution_count": 17,
   "metadata": {},
   "outputs": [
    {
     "name": "stdout",
     "output_type": "stream",
     "text": [
      "1. Hayao Miyazaki (宮崎 駿 or 宮﨑 駿, Miyazaki Hayao, Japanese: [mijaꜜzaki hajao]; born January 5, 1941) is a Japanese animator, filmmaker, and manga artist. A founder of Studio Ghibli, he has attained international acclaim as a masterful storyteller and creator of Japanese animated feature films, and is widely regarded as one of the most accomplished filmmakers in the history of animation.\n",
      "\n",
      "2. On June 15, 1985, Miyazaki and Takahata founded the animation production company Studio Ghibli as a subsidiary of Tokuma Shoten. Studio Ghibli's first film was Laputa: Castle in the Sky (1986), directed by Miyazaki. Some of the architecture in the film was also inspired by a Welsh mining town; Miyazaki witnessed the mining strike upon his first visit to Wales in 1984 and admired the miners' dedication to their work and community. Laputa was released on August 2, 1986, by the Toei Company. It sold around 775,000 tickets; Miyazaki and Suzuki expressed their disappointment with the film's box office figures. Miyazaki's following film, My Neighbor Totoro, was released alongside Takahata's Grave of the Fireflies in April 1988 to ensure Studio Ghibli's financial status. My Neighbor Totoro features the theme of the relationship between the environment and humanity, showing that harmony is the result of respecting the environment. While the film received critical acclaim, it was commercially unsuccessful at the box office. However, merchandising was successful, and the film was labeled as a cult classic.\n",
      "\n",
      "3. Studio Ghibli (in Japanese)\n",
      "\n"
     ]
    }
   ],
   "source": [
    "# visualizamos cuales son los top 3 parrafos más similares que utilizaremos como contexto\n",
    "for i, p in enumerate(most_similar_paragraphs):\n",
    "    print(f'{i+1}. {p}\\n')"
   ]
  },
  {
   "cell_type": "code",
   "execution_count": 18,
   "metadata": {},
   "outputs": [],
   "source": [
    "CONTEXT = '\\n'.join(most_similar_paragraphs)"
   ]
  },
  {
   "cell_type": "code",
   "execution_count": 19,
   "metadata": {},
   "outputs": [],
   "source": [
    "# Creamos el system prompt\n",
    "prompt = f\"\"\"\n",
    "use the following CONTEXT to answer the QUESTION at the end.\n",
    "If you don't know the answer, just say that you don't know, don't try to make up an answer.\n",
    "\n",
    "CONTEXT: {CONTEXT}\n",
    "QUESTION: {query}\n",
    "\n",
    "\"\"\""
   ]
  },
  {
   "cell_type": "code",
   "execution_count": 20,
   "metadata": {},
   "outputs": [],
   "source": [
    "from openai import OpenAI\n",
    "import os\n",
    "\n",
    "client = OpenAI(api_key=os.getenv('OPENAI_API_KEY'))"
   ]
  },
  {
   "cell_type": "code",
   "execution_count": 21,
   "metadata": {},
   "outputs": [
    {
     "name": "stderr",
     "output_type": "stream",
     "text": [
      "huggingface/tokenizers: The current process just got forked, after parallelism has already been used. Disabling parallelism to avoid deadlocks...\n",
      "To disable this warning, you can either:\n",
      "\t- Avoid using `tokenizers` before the fork if possible\n",
      "\t- Explicitly set the environment variable TOKENIZERS_PARALLELISM=(true | false)\n"
     ]
    }
   ],
   "source": [
    "response = client.chat.completions.create(\n",
    "  model=\"gpt-4o\",\n",
    "  messages=[\n",
    "    {\"role\": \"user\", \"content\": prompt},\n",
    "  ]\n",
    ")"
   ]
  },
  {
   "cell_type": "code",
   "execution_count": 22,
   "metadata": {},
   "outputs": [
    {
     "name": "stdout",
     "output_type": "stream",
     "text": [
      "Studio Ghibli's first film was **Laputa: Castle in the Sky**.\n"
     ]
    }
   ],
   "source": [
    "print(response.choices[0].message.content)"
   ]
  }
 ],
 "metadata": {
  "kernelspec": {
   "display_name": "venv",
   "language": "python",
   "name": "python3"
  },
  "language_info": {
   "codemirror_mode": {
    "name": "ipython",
    "version": 3
   },
   "file_extension": ".py",
   "mimetype": "text/x-python",
   "name": "python",
   "nbconvert_exporter": "python",
   "pygments_lexer": "ipython3",
   "version": "3.11.9"
  }
 },
 "nbformat": 4,
 "nbformat_minor": 2
}
